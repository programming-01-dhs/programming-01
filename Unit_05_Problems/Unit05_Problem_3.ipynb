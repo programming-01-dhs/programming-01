import random
import math

#problem 3

userNumber = 0

while userNumber < 1 or userNumber > 15:
    userNumber = eval(input("Give me a number to make a pyramid (1-15) = "))

    if userNumber < 1:
        userNumber = eval(input("Invalid input, try again (1-15) = "))
    
    if userNumber > 15:
        userNumber = eval(input("Invalid input, try again (1-15) = "))

#setting variables
spacer = "   "
spacer2 = " "

if userNumber > 9:
    spacer = "   "
    spacer2 = " "

spacer3 = ""

currentNum = 1

for row in range(1, userNumber + 1):
    if row == 1:
        print(spacer * (userNumber - currentNum), currentNum)
    
    elif row >= 1:
        print(spacer * (userNumber - currentNum), currentNum, end='')
        for i in range(1, currentNum):
            if (currentNum-i) < 9:
                print(spacer2, (currentNum-i), end="")

            else:
                print(spacer3, (currentNum - i), end="")
        
        for i in range(currentNum, 1, -1):
            if (currentNum - i + 2) < 9:
                print(spacer2, (currentNum - i) + 2, end='')
            
            else:
                print(spacer3, (currentNum - i) + 2, end='')
        
        print()

    currentNum += 1

print()
