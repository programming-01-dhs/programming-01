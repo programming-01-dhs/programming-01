{
  "metadata": {
    "kernelspec": {
      "name": "python",
      "display_name": "Python (Pyodide)",
      "language": "python"
    },
    "language_info": {
      "codemirror_mode": {
        "name": "python",
        "version": 3
      },
      "file_extension": ".py",
      "mimetype": "text/x-python",
      "name": "python",
      "nbconvert_exporter": "python",
      "pygments_lexer": "ipython3",
      "version": "3.8"
    }
  },
  "nbformat_minor": 4,
  "nbformat": 4,
  "cells": [
    {
      "cell_type": "code",
      "source": "import random\nimport math\n\n#problem 3\n\nuserNumber = 0\n\nwhile userNumber < 1 or userNumber > 15:\n    userNumber = eval(input(\"Give me a number to make a pyramid (1-15) = \"))\n\n    if userNumber < 1:\n        userNumber = eval(input(\"Invalid input, try again (1-15) = \"))\n    \n    if userNumber > 15:\n        userNumber = eval(input(\"Invalid input, try again (1-15) = \"))\n\n#setting variables\nspacer = \"   \"\nspacer2 = \" \"\n\nif userNumber > 9:\n    spacer = \"   \"\n    spacer2 = \" \"\n\nspacer3 = \"\"\n\ncurrentNum = 1\n\nfor row in range(1, userNumber + 1):\n    if row == 1:\n        print(spacer * (userNumber - currentNum), currentNum)\n    \n    elif row >= 1:\n        print(spacer * (userNumber - currentNum), currentNum, end='')\n        for i in range(1, currentNum):\n            if (currentNum-i) < 9:\n                print(spacer2, (currentNum-i), end=\"\")\n\n            else:\n                print(spacer3, (currentNum - i), end=\"\")\n        \n        for i in range(currentNum, 1, -1):\n            if (currentNum - i + 2) < 9:\n                print(spacer2, (currentNum - i) + 2, end='')\n            \n            else:\n                print(spacer3, (currentNum - i) + 2, end='')\n        \n        print()\n\n    currentNum += 1\n\nprint()",
      "metadata": {
        "trusted": true
      },
      "outputs": [],
      "execution_count": null
    }
  ]
}