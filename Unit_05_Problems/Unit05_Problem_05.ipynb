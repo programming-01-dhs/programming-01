{
  "nbformat": 4,
  "nbformat_minor": 0,
  "metadata": {
    "colab": {
      "provenance": []
    },
    "kernelspec": {
      "name": "python3",
      "display_name": "Python 3"
    },
    "language_info": {
      "name": "python"
    }
  },
  "cells": [
    {
      "cell_type": "code",
      "execution_count": 6,
      "metadata": {
        "colab": {
          "base_uri": "https://localhost:8080/",
          "height": 315
        },
        "id": "oPX7rCaokltU",
        "outputId": "051e0b43-6ca7-448a-9445-7f5035cebec7"
      },
      "outputs": [
        {
          "name": "stdout",
          "output_type": "stream",
          "text": [
            "Problem 5 - Number Guessing Game:\n",
            "\n",
            "Please give me a number between 1 and 100 and I will guess it = 62\n",
            "\n",
            "Guess 1: Is your number 50? Give me a high, low, or correct. (H/L/C) = L\n"
          ]
        },
        {
          "output_type": "error",
          "ename": "TypeError",
          "evalue": "can only concatenate str (not \"int\") to str",
          "traceback": [
            "\u001b[0;31m---------------------------------------------------------------------------\u001b[0m",
            "\u001b[0;31mTypeError\u001b[0m                                 Traceback (most recent call last)",
            "\u001b[0;32m<ipython-input-6-164ae323ea1f>\u001b[0m in \u001b[0;36m<cell line: 25>\u001b[0;34m()\u001b[0m\n\u001b[1;32m     37\u001b[0m     \u001b[0;32mif\u001b[0m \u001b[0mcpuGuess\u001b[0m \u001b[0;34m==\u001b[0m \u001b[0;34m\"L\"\u001b[0m\u001b[0;34m:\u001b[0m\u001b[0;34m\u001b[0m\u001b[0;34m\u001b[0m\u001b[0m\n\u001b[1;32m     38\u001b[0m \u001b[0;34m\u001b[0m\u001b[0m\n\u001b[0;32m---> 39\u001b[0;31m         \u001b[0mcpuGuess\u001b[0m \u001b[0;34m=\u001b[0m \u001b[0minput\u001b[0m\u001b[0;34m(\u001b[0m\u001b[0;34mf\"Guess {guessAmount + 1}: Is your number {cpuGuess + numberHigher}? Give me a high, low, or correct. (H/L/C) = \"\u001b[0m\u001b[0;34m)\u001b[0m\u001b[0;34m.\u001b[0m\u001b[0mupper\u001b[0m\u001b[0;34m(\u001b[0m\u001b[0;34m)\u001b[0m\u001b[0;34m\u001b[0m\u001b[0;34m\u001b[0m\u001b[0m\n\u001b[0m\u001b[1;32m     40\u001b[0m \u001b[0;34m\u001b[0m\u001b[0m\n\u001b[1;32m     41\u001b[0m     \u001b[0;32mif\u001b[0m \u001b[0mcpuGuess\u001b[0m \u001b[0;34m==\u001b[0m \u001b[0;34m\"C\"\u001b[0m\u001b[0;34m:\u001b[0m\u001b[0;34m\u001b[0m\u001b[0;34m\u001b[0m\u001b[0m\n",
            "\u001b[0;31mTypeError\u001b[0m: can only concatenate str (not \"int\") to str"
          ]
        }
      ],
      "source": [
        "import random\n",
        "import math\n",
        "\n",
        "#problem 5\n",
        "\n",
        "print(\"Problem 5 - Number Guessing Game:\")\n",
        "print()\n",
        "\n",
        "#setting variables\n",
        "guessAmount = 0\n",
        "cpuGuess = 0\n",
        "userRandom = eval(input(\"Please give me a number between 1 and 100 and I will guess it = \"))\n",
        "print()\n",
        "\n",
        "#using while loop to check if user entered a valid number\n",
        "while userRandom < 1 or userRandom > 100:\n",
        "\n",
        "\n",
        "    if userRandom > 100:\n",
        "        userRandom = eval(input(\"Invalid input, try again = \"))\n",
        "\n",
        "    if userRandom < 1:\n",
        "        userRandom = eval(input(\"Invalid input, try again = \"))\n",
        "\n",
        "while cpuGuess == \"H\" or \"L\":\n",
        "\n",
        "    #setting variables inside the while loop\n",
        "    numberGuess = random.randint(1,100)\n",
        "    numberLower = random.randint(1,10)\n",
        "    numberHigher = random.randint(1,10)\n",
        "    cpuGuess = input(f\"Guess {guessAmount + 1}: Is your number 50? Give me a high, low, or correct. (H/L/C) = \").upper()\n",
        "\n",
        "    if cpuGuess == \"H\":\n",
        "\n",
        "        numberGuess -= numberLower\n",
        "\n",
        "    if cpuGuess == \"L\":\n",
        "\n",
        "        numberGuess += numberHigher\n",
        "\n",
        "    if cpuGuess == \"C\":\n",
        "        print(f\"Wow, your number was {userRandom}. It took {guessAmount} trys to get the correct.\")\n",
        "\n"
      ]
    }
  ]
}