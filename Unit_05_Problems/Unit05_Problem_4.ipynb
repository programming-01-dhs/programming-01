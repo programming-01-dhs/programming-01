import math
import random

#making variables
problemNum = 0
correctAnswers = 0
wrongAnswers = 0

print("Problem 4 - Math Game:")
print()

#user input
userAnswer = input("What type of problem would you like to have? (addition, subtraction, both) = ")
print()

print("Your goal is to get 5 correct answers. If you get 3 wrong answers, you lose.")

#creating a while loop with contitions for the game.   ex: the loop will stop when the user gets 5 correct answers as well as when they get 3 wrong answers
while correctAnswers < 5 and wrongAnswers < 3:

    #creating random functions to choose numbers for the problem
    randomInt1 = random.randint(0, 9)
    randomInt2 = random.randint(0, 9)
    randomSign = random.choice(["+", "-"])  #this random function is interesting as it chooses whether it should use + or - for the problem

    #using if statements for figuring out user input
    if userAnswer == "addition":
        userResponse = eval(input(f"Problem {problemNum + 1}: {randomInt1} - {randomInt2} = "))

        if userResponse == randomInt1 + randomInt2:
            print("Correct!")
            print()
            correctAnswers += 1  #this += is the same as writing down "myVariable = myVariable + 1", it is just a shorter way of typing it
            problemNum += 1

        #intead of using another if statement, we can use an else statement, as there is only one other option for the problem
        else:
            print("Incorrect!")
            print()
            wrongAnswers += 1
            problemNum += 1

    #using the same method as seen above
    if userAnswer == "subtraction":
        userResponse = eval(input(f"Problem {problemNum + 1}: {randomInt1} - {randomInt2} = "))

        if userResponse == randomInt1 - randomInt2:
            print("Correct!")
            print()
            correctAnswers += 1
            problemNum += 1

        else:
            print("Incorrect!")
            print()
            wrongAnswers += 1
            problemNum += 1

    #using the same method as seen above
    if userAnswer == "both":
        userResponse = eval(input(f"Problem {problemNum + 1}: {randomInt1} {randomSign} {randomInt2} = "))  #in this line, you will see {randomSign}, which was the variable we made above that chose between + and -,  we only use it for this if statement because the user chose both

        #we use and "or" here as there are multiple possibilities for the outcome
        if userResponse == randomInt1 + randomInt2 or randomInt1 - randomInt2:
            print("Correct!")
            print()
            correctAnswers += 1
            problemNum += 1

        else:
            print("Incorrect!")
            print()
            wrongAnswers += 1
            problemNum += 1

    #this is checking if the condition has been met, if it has, it will end the loop with a print statement
    if correctAnswers == 5:
        print("Congrats! You won the game!")
        print(f"You got {correctAnswers} correct answers and {wrongAnswers} wrong answers.")

    #checking the other condition
    else:
        if wrongAnswers == 3:
          print("You lost the game.")
          print(f"You got {correctAnswers} correct answers and {wrongAnswers} wrong answers.")

     
